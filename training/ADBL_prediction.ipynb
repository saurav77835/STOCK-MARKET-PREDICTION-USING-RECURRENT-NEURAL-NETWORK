{
 "metadata": {
  "language_info": {
   "codemirror_mode": {
    "name": "ipython",
    "version": 3
   },
   "file_extension": ".py",
   "mimetype": "text/x-python",
   "name": "python",
   "nbconvert_exporter": "python",
   "pygments_lexer": "ipython3",
   "version": "3.7.0-final"
  },
  "orig_nbformat": 2,
  "kernelspec": {
   "name": "python3",
   "display_name": "Python 3",
   "language": "python"
  }
 },
 "nbformat": 4,
 "nbformat_minor": 2,
 "cells": [
  {
   "cell_type": "code",
   "execution_count": 1,
   "metadata": {},
   "outputs": [],
   "source": [
    "#1.Data Preprocessing"
   ]
  },
  {
   "cell_type": "code",
   "execution_count": 2,
   "metadata": {},
   "outputs": [],
   "source": [
    "#Importing the libraries\n",
    "import numpy as np       \n",
    "import matplotlib.pyplot as plt   \n",
    "import pandas as pd  \n"
   ]
  },
  {
   "cell_type": "code",
   "execution_count": 3,
   "metadata": {},
   "outputs": [
    {
     "output_type": "execute_result",
     "data": {
      "text/plain": [
       "     Symbol        Date   Open   High    Low  Close     Vol\n",
       "0      ADBL  2012-01-01  115.0  115.0  113.0  114.0   1,111\n",
       "1      ADBL  2012-01-02  114.0  118.0  115.0  118.0     551\n",
       "2      ADBL  2012-01-03  118.0  116.0  114.0  115.0     490\n",
       "3      ADBL  2012-01-04  115.0  115.0  113.0  114.0   3,220\n",
       "4      ADBL  2012-01-05  114.0  114.0  112.0  113.0     775\n",
       "...     ...         ...    ...    ...    ...    ...     ...\n",
       "1885   ADBL  2020-02-12  392.0  392.0  383.0  388.0  34,048\n",
       "1886   ADBL  2020-02-13  386.0  388.0  380.0  384.0  20,972\n",
       "1887   ADBL  2020-02-16  385.0  390.0  383.0  390.0  29,836\n",
       "1888   ADBL  2020-02-17  392.0  401.0  390.0  396.0  42,746\n",
       "1889   ADBL  2020-02-18  402.0  408.0  395.0  398.0  42,822\n",
       "\n",
       "[1890 rows x 7 columns]"
      ],
      "text/html": "<div>\n<style scoped>\n    .dataframe tbody tr th:only-of-type {\n        vertical-align: middle;\n    }\n\n    .dataframe tbody tr th {\n        vertical-align: top;\n    }\n\n    .dataframe thead th {\n        text-align: right;\n    }\n</style>\n<table border=\"1\" class=\"dataframe\">\n  <thead>\n    <tr style=\"text-align: right;\">\n      <th></th>\n      <th>Symbol</th>\n      <th>Date</th>\n      <th>Open</th>\n      <th>High</th>\n      <th>Low</th>\n      <th>Close</th>\n      <th>Vol</th>\n    </tr>\n  </thead>\n  <tbody>\n    <tr>\n      <th>0</th>\n      <td>ADBL</td>\n      <td>2012-01-01</td>\n      <td>115.0</td>\n      <td>115.0</td>\n      <td>113.0</td>\n      <td>114.0</td>\n      <td>1,111</td>\n    </tr>\n    <tr>\n      <th>1</th>\n      <td>ADBL</td>\n      <td>2012-01-02</td>\n      <td>114.0</td>\n      <td>118.0</td>\n      <td>115.0</td>\n      <td>118.0</td>\n      <td>551</td>\n    </tr>\n    <tr>\n      <th>2</th>\n      <td>ADBL</td>\n      <td>2012-01-03</td>\n      <td>118.0</td>\n      <td>116.0</td>\n      <td>114.0</td>\n      <td>115.0</td>\n      <td>490</td>\n    </tr>\n    <tr>\n      <th>3</th>\n      <td>ADBL</td>\n      <td>2012-01-04</td>\n      <td>115.0</td>\n      <td>115.0</td>\n      <td>113.0</td>\n      <td>114.0</td>\n      <td>3,220</td>\n    </tr>\n    <tr>\n      <th>4</th>\n      <td>ADBL</td>\n      <td>2012-01-05</td>\n      <td>114.0</td>\n      <td>114.0</td>\n      <td>112.0</td>\n      <td>113.0</td>\n      <td>775</td>\n    </tr>\n    <tr>\n      <th>...</th>\n      <td>...</td>\n      <td>...</td>\n      <td>...</td>\n      <td>...</td>\n      <td>...</td>\n      <td>...</td>\n      <td>...</td>\n    </tr>\n    <tr>\n      <th>1885</th>\n      <td>ADBL</td>\n      <td>2020-02-12</td>\n      <td>392.0</td>\n      <td>392.0</td>\n      <td>383.0</td>\n      <td>388.0</td>\n      <td>34,048</td>\n    </tr>\n    <tr>\n      <th>1886</th>\n      <td>ADBL</td>\n      <td>2020-02-13</td>\n      <td>386.0</td>\n      <td>388.0</td>\n      <td>380.0</td>\n      <td>384.0</td>\n      <td>20,972</td>\n    </tr>\n    <tr>\n      <th>1887</th>\n      <td>ADBL</td>\n      <td>2020-02-16</td>\n      <td>385.0</td>\n      <td>390.0</td>\n      <td>383.0</td>\n      <td>390.0</td>\n      <td>29,836</td>\n    </tr>\n    <tr>\n      <th>1888</th>\n      <td>ADBL</td>\n      <td>2020-02-17</td>\n      <td>392.0</td>\n      <td>401.0</td>\n      <td>390.0</td>\n      <td>396.0</td>\n      <td>42,746</td>\n    </tr>\n    <tr>\n      <th>1889</th>\n      <td>ADBL</td>\n      <td>2020-02-18</td>\n      <td>402.0</td>\n      <td>408.0</td>\n      <td>395.0</td>\n      <td>398.0</td>\n      <td>42,822</td>\n    </tr>\n  </tbody>\n</table>\n<p>1890 rows × 7 columns</p>\n</div>"
     },
     "metadata": {},
     "execution_count": 3
    }
   ],
   "source": [
    "dataset_train = pd.read_csv('ADBL_train_data.csv')\n",
    "dataset_train"
   ]
  },
  {
   "cell_type": "code",
   "execution_count": 4,
   "metadata": {},
   "outputs": [
    {
     "output_type": "execute_result",
     "data": {
      "text/plain": [
       "array([[114.],\n",
       "       [118.],\n",
       "       [115.],\n",
       "       ...,\n",
       "       [390.],\n",
       "       [396.],\n",
       "       [398.]])"
      ]
     },
     "metadata": {},
     "execution_count": 4
    }
   ],
   "source": [
    "training_set=dataset_train.iloc[:,5:6].values\n",
    "training_set"
   ]
  },
  {
   "cell_type": "code",
   "execution_count": 5,
   "metadata": {},
   "outputs": [
    {
     "output_type": "execute_result",
     "data": {
      "text/plain": [
       "array([[0.01325178],\n",
       "       [0.01732926],\n",
       "       [0.01427115],\n",
       "       ...,\n",
       "       [0.29459735],\n",
       "       [0.30071356],\n",
       "       [0.30275229]])"
      ]
     },
     "metadata": {},
     "execution_count": 5
    }
   ],
   "source": [
    "#Feature Scaling\n",
    "from sklearn.preprocessing import MinMaxScaler\n",
    "sc = MinMaxScaler(feature_range=(0,1))\n",
    "training_set_scaled=sc.fit_transform(training_set)\n",
    "training_set_scaled"
   ]
  },
  {
   "cell_type": "code",
   "execution_count": 6,
   "metadata": {},
   "outputs": [],
   "source": [
    "X_train=[]\n",
    "y_train=[]\n",
    "for i in range(60,1890):\n",
    "    X_train.append(training_set_scaled[i-60:i , 0])\n",
    "    y_train.append(training_set_scaled[i , 0])\n",
    "X_train, y_train = np.array(X_train), np.array(y_train)"
   ]
  },
  {
   "cell_type": "code",
   "execution_count": 7,
   "metadata": {},
   "outputs": [
    {
     "output_type": "execute_result",
     "data": {
      "text/plain": [
       "array([[0.01325178, 0.01732926, 0.01427115, ..., 0.00407747, 0.00509684,\n",
       "        0.00407747],\n",
       "       [0.01732926, 0.01427115, 0.01325178, ..., 0.00509684, 0.00407747,\n",
       "        0.00509684],\n",
       "       [0.01427115, 0.01325178, 0.01223242, ..., 0.00407747, 0.00509684,\n",
       "        0.00509684],\n",
       "       ...,\n",
       "       [0.3088685 , 0.31396534, 0.30988787, ..., 0.28950051, 0.29255861,\n",
       "        0.28848114],\n",
       "       [0.31396534, 0.30988787, 0.31396534, ..., 0.29255861, 0.28848114,\n",
       "        0.29459735],\n",
       "       [0.30988787, 0.31396534, 0.3088685 , ..., 0.28848114, 0.29459735,\n",
       "        0.30071356]])"
      ]
     },
     "metadata": {},
     "execution_count": 7
    }
   ],
   "source": [
    "X_train"
   ]
  },
  {
   "cell_type": "code",
   "execution_count": 8,
   "metadata": {},
   "outputs": [],
   "source": [
    "#Reshaping\n",
    "X_train = np.reshape(X_train, (X_train.shape[0],X_train.shape[1],1))"
   ]
  },
  {
   "cell_type": "code",
   "execution_count": 9,
   "metadata": {},
   "outputs": [],
   "source": [
    "#2 Building RNN"
   ]
  },
  {
   "cell_type": "code",
   "execution_count": 11,
   "metadata": {},
   "outputs": [],
   "source": [
    "#importing keras library and packages\n",
    "from tensorflow.keras.models import Sequential\n",
    "from tensorflow.keras.layers import Dense\n",
    "from tensorflow.keras.layers import LSTM\n",
    "from tensorflow.keras.layers import Dropout"
   ]
  },
  {
   "cell_type": "code",
   "execution_count": 12,
   "metadata": {},
   "outputs": [],
   "source": [
    "#Initialising the RNN\n",
    "regressor = Sequential()"
   ]
  },
  {
   "cell_type": "code",
   "execution_count": 13,
   "metadata": {},
   "outputs": [],
   "source": [
    "#Adding the first LSTM layer and some Dropout regularisation\n",
    "regressor.add(LSTM(units = 50,return_sequences = True, input_shape = (X_train.shape[1],1)))\n",
    "regressor.add(Dropout(0.2))"
   ]
  },
  {
   "cell_type": "code",
   "execution_count": 14,
   "metadata": {},
   "outputs": [],
   "source": [
    "#Adding a second LSTM layer and some Droput regularisation\n",
    "regressor.add(LSTM(units = 50,return_sequences = True))\n",
    "regressor.add(Dropout(0.2))"
   ]
  },
  {
   "cell_type": "code",
   "execution_count": 15,
   "metadata": {},
   "outputs": [],
   "source": [
    "#Adding a third LSTM layer and some Droput regularisation\n",
    "regressor.add(LSTM(units = 50,return_sequences = True))\n",
    "regressor.add(Dropout(0.2))"
   ]
  },
  {
   "cell_type": "code",
   "execution_count": 16,
   "metadata": {},
   "outputs": [],
   "source": [
    "#Adding a fourth LSTM layer and some Droput regularisation\n",
    "regressor.add(LSTM(units = 50))\n",
    "regressor.add(Dropout(0.2))"
   ]
  },
  {
   "cell_type": "code",
   "execution_count": 17,
   "metadata": {},
   "outputs": [],
   "source": [
    "#Adding the output Layer\n",
    "regressor.add(Dense(units = 1))"
   ]
  },
  {
   "cell_type": "code",
   "execution_count": 18,
   "metadata": {},
   "outputs": [],
   "source": [
    "#Compiling the RNN\n",
    "regressor.compile(optimizer = 'adam', loss = 'mean_squared_error')"
   ]
  },
  {
   "cell_type": "code",
   "execution_count": 19,
   "metadata": {
    "tags": []
   },
   "outputs": [
    {
     "output_type": "stream",
     "name": "stdout",
     "text": [
      "Epoch 1/100\n",
      "58/58 [==============================] - 9s 71ms/step - loss: 0.0292\n",
      "Epoch 2/100\n",
      "58/58 [==============================] - 4s 67ms/step - loss: 0.0038\n",
      "Epoch 3/100\n",
      "58/58 [==============================] - 4s 62ms/step - loss: 0.0033\n",
      "Epoch 4/100\n",
      "58/58 [==============================] - 4s 67ms/step - loss: 0.0028\n",
      "Epoch 5/100\n",
      "58/58 [==============================] - 4s 65ms/step - loss: 0.0036\n",
      "Epoch 6/100\n",
      "58/58 [==============================] - 4s 71ms/step - loss: 0.0029\n",
      "Epoch 7/100\n",
      "58/58 [==============================] - 4s 72ms/step - loss: 0.0025\n",
      "Epoch 8/100\n",
      "58/58 [==============================] - 4s 64ms/step - loss: 0.0027\n",
      "Epoch 9/100\n",
      "58/58 [==============================] - 4s 65ms/step - loss: 0.0030\n",
      "Epoch 10/100\n",
      "58/58 [==============================] - 4s 65ms/step - loss: 0.0025\n",
      "Epoch 11/100\n",
      "58/58 [==============================] - 4s 67ms/step - loss: 0.0022\n",
      "Epoch 12/100\n",
      "58/58 [==============================] - 4s 64ms/step - loss: 0.0022\n",
      "Epoch 13/100\n",
      "58/58 [==============================] - 4s 65ms/step - loss: 0.0023\n",
      "Epoch 14/100\n",
      "58/58 [==============================] - 4s 62ms/step - loss: 0.0022\n",
      "Epoch 15/100\n",
      "58/58 [==============================] - 4s 66ms/step - loss: 0.0018\n",
      "Epoch 16/100\n",
      "58/58 [==============================] - 4s 68ms/step - loss: 0.0021\n",
      "Epoch 17/100\n",
      "58/58 [==============================] - 4s 69ms/step - loss: 0.0018\n",
      "Epoch 18/100\n",
      "58/58 [==============================] - 4s 65ms/step - loss: 0.0017\n",
      "Epoch 19/100\n",
      "58/58 [==============================] - 4s 64ms/step - loss: 0.0019\n",
      "Epoch 20/100\n",
      "58/58 [==============================] - 4s 63ms/step - loss: 0.0014\n",
      "Epoch 21/100\n",
      "58/58 [==============================] - 4s 65ms/step - loss: 0.0019\n",
      "Epoch 22/100\n",
      "58/58 [==============================] - 4s 63ms/step - loss: 0.0019\n",
      "Epoch 23/100\n",
      "58/58 [==============================] - 4s 62ms/step - loss: 0.0018\n",
      "Epoch 24/100\n",
      "58/58 [==============================] - 4s 61ms/step - loss: 0.0015\n",
      "Epoch 25/100\n",
      "58/58 [==============================] - 4s 64ms/step - loss: 0.0013\n",
      "Epoch 26/100\n",
      "58/58 [==============================] - 4s 66ms/step - loss: 0.0011\n",
      "Epoch 27/100\n",
      "58/58 [==============================] - 4s 62ms/step - loss: 0.0013\n",
      "Epoch 28/100\n",
      "58/58 [==============================] - 4s 62ms/step - loss: 0.0012\n",
      "Epoch 29/100\n",
      "58/58 [==============================] - 4s 62ms/step - loss: 0.0013\n",
      "Epoch 30/100\n",
      "58/58 [==============================] - 4s 62ms/step - loss: 0.0014\n",
      "Epoch 31/100\n",
      "58/58 [==============================] - 4s 62ms/step - loss: 0.0011\n",
      "Epoch 32/100\n",
      "58/58 [==============================] - 4s 69ms/step - loss: 0.0011\n",
      "Epoch 33/100\n",
      "58/58 [==============================] - 4s 62ms/step - loss: 0.0013\n",
      "Epoch 34/100\n",
      "58/58 [==============================] - 3s 58ms/step - loss: 0.0010\n",
      "Epoch 35/100\n",
      "58/58 [==============================] - 3s 60ms/step - loss: 0.0010\n",
      "Epoch 36/100\n",
      "58/58 [==============================] - 3s 60ms/step - loss: 9.5176e-04\n",
      "Epoch 37/100\n",
      "58/58 [==============================] - 3s 58ms/step - loss: 9.8758e-04\n",
      "Epoch 38/100\n",
      "58/58 [==============================] - 3s 59ms/step - loss: 0.0010\n",
      "Epoch 39/100\n",
      "58/58 [==============================] - 4s 61ms/step - loss: 0.0011\n",
      "Epoch 40/100\n",
      "58/58 [==============================] - 4s 61ms/step - loss: 0.0012\n",
      "Epoch 41/100\n",
      "58/58 [==============================] - 3s 59ms/step - loss: 9.6175e-04\n",
      "Epoch 42/100\n",
      "58/58 [==============================] - 3s 60ms/step - loss: 9.7305e-04\n",
      "Epoch 43/100\n",
      "58/58 [==============================] - 4s 60ms/step - loss: 0.0011\n",
      "Epoch 44/100\n",
      "58/58 [==============================] - 3s 59ms/step - loss: 9.6165e-04\n",
      "Epoch 45/100\n",
      "58/58 [==============================] - 4s 62ms/step - loss: 8.2637e-04\n",
      "Epoch 46/100\n",
      "58/58 [==============================] - 4s 66ms/step - loss: 8.1154e-04\n",
      "Epoch 47/100\n",
      "58/58 [==============================] - 4s 65ms/step - loss: 9.4782e-04\n",
      "Epoch 48/100\n",
      "58/58 [==============================] - 4s 62ms/step - loss: 7.1390e-04\n",
      "Epoch 49/100\n",
      "58/58 [==============================] - 4s 63ms/step - loss: 8.1264e-04\n",
      "Epoch 50/100\n",
      "58/58 [==============================] - 4s 62ms/step - loss: 8.4646e-04\n",
      "Epoch 51/100\n",
      "58/58 [==============================] - 4s 61ms/step - loss: 7.5507e-04\n",
      "Epoch 52/100\n",
      "58/58 [==============================] - 4s 61ms/step - loss: 0.0010\n",
      "Epoch 53/100\n",
      "58/58 [==============================] - 4s 61ms/step - loss: 8.4617e-04\n",
      "Epoch 54/100\n",
      "58/58 [==============================] - 4s 61ms/step - loss: 7.1881e-04\n",
      "Epoch 55/100\n",
      "58/58 [==============================] - 4s 64ms/step - loss: 8.7772e-04\n",
      "Epoch 56/100\n",
      "58/58 [==============================] - 4s 67ms/step - loss: 8.5499e-04\n",
      "Epoch 57/100\n",
      "58/58 [==============================] - 4s 67ms/step - loss: 8.1762e-04\n",
      "Epoch 58/100\n",
      "58/58 [==============================] - 4s 65ms/step - loss: 8.6346e-04\n",
      "Epoch 59/100\n",
      "58/58 [==============================] - 4s 63ms/step - loss: 9.5895e-04\n",
      "Epoch 60/100\n",
      "58/58 [==============================] - 4s 62ms/step - loss: 0.0011\n",
      "Epoch 61/100\n",
      "58/58 [==============================] - 4s 65ms/step - loss: 6.9622e-04\n",
      "Epoch 62/100\n",
      "58/58 [==============================] - 4s 64ms/step - loss: 7.5893e-04\n",
      "Epoch 63/100\n",
      "58/58 [==============================] - 4s 65ms/step - loss: 8.5599e-04\n",
      "Epoch 64/100\n",
      "58/58 [==============================] - 4s 64ms/step - loss: 9.4881e-04\n",
      "Epoch 65/100\n",
      "58/58 [==============================] - 4s 65ms/step - loss: 8.5520e-04\n",
      "Epoch 66/100\n",
      "58/58 [==============================] - 4s 65ms/step - loss: 7.0042e-04\n",
      "Epoch 67/100\n",
      "58/58 [==============================] - 4s 63ms/step - loss: 7.4331e-04\n",
      "Epoch 68/100\n",
      "58/58 [==============================] - 4s 62ms/step - loss: 7.2176e-04\n",
      "Epoch 69/100\n",
      "58/58 [==============================] - 4s 63ms/step - loss: 8.7002e-04\n",
      "Epoch 70/100\n",
      "58/58 [==============================] - 4s 62ms/step - loss: 7.0937e-04\n",
      "Epoch 71/100\n",
      "58/58 [==============================] - 4s 64ms/step - loss: 7.1748e-04\n",
      "Epoch 72/100\n",
      "58/58 [==============================] - 4s 64ms/step - loss: 6.7902e-04\n",
      "Epoch 73/100\n",
      "58/58 [==============================] - 4s 64ms/step - loss: 7.7675e-04\n",
      "Epoch 74/100\n",
      "58/58 [==============================] - 4s 64ms/step - loss: 8.8822e-04\n",
      "Epoch 75/100\n",
      "58/58 [==============================] - 4s 63ms/step - loss: 9.2751e-04\n",
      "Epoch 76/100\n",
      "58/58 [==============================] - 4s 62ms/step - loss: 7.7205e-04\n",
      "Epoch 77/100\n",
      "58/58 [==============================] - 4s 62ms/step - loss: 8.1638e-04\n",
      "Epoch 78/100\n",
      "58/58 [==============================] - 3s 60ms/step - loss: 8.1853e-04\n",
      "Epoch 79/100\n",
      "58/58 [==============================] - 4s 64ms/step - loss: 6.5294e-04\n",
      "Epoch 80/100\n",
      "58/58 [==============================] - 4s 62ms/step - loss: 6.5015e-04\n",
      "Epoch 81/100\n",
      "58/58 [==============================] - 4s 62ms/step - loss: 6.7954e-04\n",
      "Epoch 82/100\n",
      "58/58 [==============================] - 4s 62ms/step - loss: 6.3238e-04\n",
      "Epoch 83/100\n",
      "58/58 [==============================] - 4s 64ms/step - loss: 6.7018e-04\n",
      "Epoch 84/100\n",
      "58/58 [==============================] - 4s 63ms/step - loss: 6.7525e-04\n",
      "Epoch 85/100\n",
      "58/58 [==============================] - 4s 65ms/step - loss: 7.1493e-04\n",
      "Epoch 86/100\n",
      "58/58 [==============================] - 4s 64ms/step - loss: 6.4765e-04\n",
      "Epoch 87/100\n",
      "58/58 [==============================] - 4s 65ms/step - loss: 6.2152e-04\n",
      "Epoch 88/100\n",
      "58/58 [==============================] - 4s 62ms/step - loss: 5.6417e-04\n",
      "Epoch 89/100\n",
      "58/58 [==============================] - 4s 61ms/step - loss: 7.4291e-04\n",
      "Epoch 90/100\n",
      "58/58 [==============================] - 4s 63ms/step - loss: 5.2818e-04\n",
      "Epoch 91/100\n",
      "58/58 [==============================] - 4s 62ms/step - loss: 6.4351e-04\n",
      "Epoch 92/100\n",
      "58/58 [==============================] - 4s 61ms/step - loss: 6.9116e-04\n",
      "Epoch 93/100\n",
      "58/58 [==============================] - 4s 62ms/step - loss: 4.9536e-04\n",
      "Epoch 94/100\n",
      "58/58 [==============================] - 4s 62ms/step - loss: 9.4719e-04\n",
      "Epoch 95/100\n",
      "58/58 [==============================] - 4s 62ms/step - loss: 7.0482e-04\n",
      "Epoch 96/100\n",
      "58/58 [==============================] - 4s 62ms/step - loss: 5.7389e-04\n",
      "Epoch 97/100\n",
      "58/58 [==============================] - 4s 63ms/step - loss: 6.4330e-04\n",
      "Epoch 98/100\n",
      "58/58 [==============================] - 4s 64ms/step - loss: 7.0881e-04\n",
      "Epoch 99/100\n",
      "58/58 [==============================] - 4s 62ms/step - loss: 6.0103e-04\n",
      "Epoch 100/100\n",
      "58/58 [==============================] - 4s 64ms/step - loss: 7.0146e-04\n"
     ]
    },
    {
     "output_type": "execute_result",
     "data": {
      "text/plain": [
       "<tensorflow.python.keras.callbacks.History at 0x1db68f5fd30>"
      ]
     },
     "metadata": {},
     "execution_count": 19
    }
   ],
   "source": [
    "#Fitting the RNN to the Training set\n",
    "regressor.fit(X_train, y_train, epochs = 100,batch_size = 32)"
   ]
  },
  {
   "cell_type": "code",
   "execution_count": 20,
   "metadata": {},
   "outputs": [],
   "source": [
    "#3.Making the prediction and visualising the results"
   ]
  },
  {
   "cell_type": "code",
   "execution_count": 21,
   "metadata": {},
   "outputs": [],
   "source": [
    "#Getting the real stock price of next months\n",
    "dataset_test = pd.read_csv('ADBL_test_data.csv')\n",
    "real_stock_price = dataset_test.iloc[:,5:6].values"
   ]
  },
  {
   "cell_type": "code",
   "execution_count": 22,
   "metadata": {},
   "outputs": [],
   "source": [
    "#Getting the predicted stock price of next month\n",
    "dataset_total = pd.concat((dataset_train['Close'],dataset_test['Close']),axis = 0)\n",
    "inputs = dataset_total[len(dataset_total)-len(dataset_test)-60:].values\n",
    "inputs = inputs.reshape(-1,1)\n",
    "inputs = sc.transform(inputs)\n",
    "X_test = []\n",
    "for i in range(60,80):\n",
    "    X_test.append(inputs[i-60:i,0])\n",
    "X_test=np.array(X_test)\n",
    "X_test=np.reshape(X_test, (X_test.shape[0],X_test.shape[1],1))\n",
    "predicted_stock_price = regressor.predict(X_test)\n",
    "predicted_stock_price = sc.inverse_transform(predicted_stock_price)"
   ]
  },
  {
   "cell_type": "code",
   "execution_count": 23,
   "metadata": {},
   "outputs": [
    {
     "output_type": "display_data",
     "data": {
      "text/plain": "<Figure size 432x288 with 1 Axes>",
      "image/svg+xml": "<?xml version=\"1.0\" encoding=\"utf-8\" standalone=\"no\"?>\r\n<!DOCTYPE svg PUBLIC \"-//W3C//DTD SVG 1.1//EN\"\r\n  \"http://www.w3.org/Graphics/SVG/1.1/DTD/svg11.dtd\">\r\n<!-- Created with matplotlib (https://matplotlib.org/) -->\r\n<svg height=\"277.314375pt\" version=\"1.1\" viewBox=\"0 0 388.965625 277.314375\" width=\"388.965625pt\" xmlns=\"http://www.w3.org/2000/svg\" xmlns:xlink=\"http://www.w3.org/1999/xlink\">\r\n <metadata>\r\n  <rdf:RDF xmlns:cc=\"http://creativecommons.org/ns#\" xmlns:dc=\"http://purl.org/dc/elements/1.1/\" xmlns:rdf=\"http://www.w3.org/1999/02/22-rdf-syntax-ns#\">\r\n   <cc:Work>\r\n    <dc:type rdf:resource=\"http://purl.org/dc/dcmitype/StillImage\"/>\r\n    <dc:date>2021-03-02T01:02:31.885623</dc:date>\r\n    <dc:format>image/svg+xml</dc:format>\r\n    <dc:creator>\r\n     <cc:Agent>\r\n      <dc:title>Matplotlib v3.3.4, https://matplotlib.org/</dc:title>\r\n     </cc:Agent>\r\n    </dc:creator>\r\n   </cc:Work>\r\n  </rdf:RDF>\r\n </metadata>\r\n <defs>\r\n  <style type=\"text/css\">*{stroke-linecap:butt;stroke-linejoin:round;}</style>\r\n </defs>\r\n <g id=\"figure_1\">\r\n  <g id=\"patch_1\">\r\n   <path d=\"M 0 277.314375 \r\nL 388.965625 277.314375 \r\nL 388.965625 0 \r\nL 0 0 \r\nz\r\n\" style=\"fill:none;\"/>\r\n  </g>\r\n  <g id=\"axes_1\">\r\n   <g id=\"patch_2\">\r\n    <path d=\"M 46.965625 239.758125 \r\nL 381.765625 239.758125 \r\nL 381.765625 22.318125 \r\nL 46.965625 22.318125 \r\nz\r\n\" style=\"fill:#ffffff;\"/>\r\n   </g>\r\n   <g id=\"matplotlib.axis_1\">\r\n    <g id=\"xtick_1\">\r\n     <g id=\"line2d_1\">\r\n      <defs>\r\n       <path d=\"M 0 0 \r\nL 0 3.5 \r\n\" id=\"mfb5f628c50\" style=\"stroke:#000000;stroke-width:0.8;\"/>\r\n      </defs>\r\n      <g>\r\n       <use style=\"stroke:#000000;stroke-width:0.8;\" x=\"62.183807\" xlink:href=\"#mfb5f628c50\" y=\"239.758125\"/>\r\n      </g>\r\n     </g>\r\n     <g id=\"text_1\">\r\n      <!-- 0.0 -->\r\n      <g transform=\"translate(54.232244 254.356562)scale(0.1 -0.1)\">\r\n       <defs>\r\n        <path d=\"M 31.78125 66.40625 \r\nQ 24.171875 66.40625 20.328125 58.90625 \r\nQ 16.5 51.421875 16.5 36.375 \r\nQ 16.5 21.390625 20.328125 13.890625 \r\nQ 24.171875 6.390625 31.78125 6.390625 \r\nQ 39.453125 6.390625 43.28125 13.890625 \r\nQ 47.125 21.390625 47.125 36.375 \r\nQ 47.125 51.421875 43.28125 58.90625 \r\nQ 39.453125 66.40625 31.78125 66.40625 \r\nz\r\nM 31.78125 74.21875 \r\nQ 44.046875 74.21875 50.515625 64.515625 \r\nQ 56.984375 54.828125 56.984375 36.375 \r\nQ 56.984375 17.96875 50.515625 8.265625 \r\nQ 44.046875 -1.421875 31.78125 -1.421875 \r\nQ 19.53125 -1.421875 13.0625 8.265625 \r\nQ 6.59375 17.96875 6.59375 36.375 \r\nQ 6.59375 54.828125 13.0625 64.515625 \r\nQ 19.53125 74.21875 31.78125 74.21875 \r\nz\r\n\" id=\"DejaVuSans-48\"/>\r\n        <path d=\"M 10.6875 12.40625 \r\nL 21 12.40625 \r\nL 21 0 \r\nL 10.6875 0 \r\nz\r\n\" id=\"DejaVuSans-46\"/>\r\n       </defs>\r\n       <use xlink:href=\"#DejaVuSans-48\"/>\r\n       <use x=\"63.623047\" xlink:href=\"#DejaVuSans-46\"/>\r\n       <use x=\"95.410156\" xlink:href=\"#DejaVuSans-48\"/>\r\n      </g>\r\n     </g>\r\n    </g>\r\n    <g id=\"xtick_2\">\r\n     <g id=\"line2d_2\">\r\n      <g>\r\n       <use style=\"stroke:#000000;stroke-width:0.8;\" x=\"100.229261\" xlink:href=\"#mfb5f628c50\" y=\"239.758125\"/>\r\n      </g>\r\n     </g>\r\n     <g id=\"text_2\">\r\n      <!-- 2.5 -->\r\n      <g transform=\"translate(92.277699 254.356562)scale(0.1 -0.1)\">\r\n       <defs>\r\n        <path d=\"M 19.1875 8.296875 \r\nL 53.609375 8.296875 \r\nL 53.609375 0 \r\nL 7.328125 0 \r\nL 7.328125 8.296875 \r\nQ 12.9375 14.109375 22.625 23.890625 \r\nQ 32.328125 33.6875 34.8125 36.53125 \r\nQ 39.546875 41.84375 41.421875 45.53125 \r\nQ 43.3125 49.21875 43.3125 52.78125 \r\nQ 43.3125 58.59375 39.234375 62.25 \r\nQ 35.15625 65.921875 28.609375 65.921875 \r\nQ 23.96875 65.921875 18.8125 64.3125 \r\nQ 13.671875 62.703125 7.8125 59.421875 \r\nL 7.8125 69.390625 \r\nQ 13.765625 71.78125 18.9375 73 \r\nQ 24.125 74.21875 28.421875 74.21875 \r\nQ 39.75 74.21875 46.484375 68.546875 \r\nQ 53.21875 62.890625 53.21875 53.421875 \r\nQ 53.21875 48.921875 51.53125 44.890625 \r\nQ 49.859375 40.875 45.40625 35.40625 \r\nQ 44.1875 33.984375 37.640625 27.21875 \r\nQ 31.109375 20.453125 19.1875 8.296875 \r\nz\r\n\" id=\"DejaVuSans-50\"/>\r\n        <path d=\"M 10.796875 72.90625 \r\nL 49.515625 72.90625 \r\nL 49.515625 64.59375 \r\nL 19.828125 64.59375 \r\nL 19.828125 46.734375 \r\nQ 21.96875 47.46875 24.109375 47.828125 \r\nQ 26.265625 48.1875 28.421875 48.1875 \r\nQ 40.625 48.1875 47.75 41.5 \r\nQ 54.890625 34.8125 54.890625 23.390625 \r\nQ 54.890625 11.625 47.5625 5.09375 \r\nQ 40.234375 -1.421875 26.90625 -1.421875 \r\nQ 22.3125 -1.421875 17.546875 -0.640625 \r\nQ 12.796875 0.140625 7.71875 1.703125 \r\nL 7.71875 11.625 \r\nQ 12.109375 9.234375 16.796875 8.0625 \r\nQ 21.484375 6.890625 26.703125 6.890625 \r\nQ 35.15625 6.890625 40.078125 11.328125 \r\nQ 45.015625 15.765625 45.015625 23.390625 \r\nQ 45.015625 31 40.078125 35.4375 \r\nQ 35.15625 39.890625 26.703125 39.890625 \r\nQ 22.75 39.890625 18.8125 39.015625 \r\nQ 14.890625 38.140625 10.796875 36.28125 \r\nz\r\n\" id=\"DejaVuSans-53\"/>\r\n       </defs>\r\n       <use xlink:href=\"#DejaVuSans-50\"/>\r\n       <use x=\"63.623047\" xlink:href=\"#DejaVuSans-46\"/>\r\n       <use x=\"95.410156\" xlink:href=\"#DejaVuSans-53\"/>\r\n      </g>\r\n     </g>\r\n    </g>\r\n    <g id=\"xtick_3\">\r\n     <g id=\"line2d_3\">\r\n      <g>\r\n       <use style=\"stroke:#000000;stroke-width:0.8;\" x=\"138.274716\" xlink:href=\"#mfb5f628c50\" y=\"239.758125\"/>\r\n      </g>\r\n     </g>\r\n     <g id=\"text_3\">\r\n      <!-- 5.0 -->\r\n      <g transform=\"translate(130.323153 254.356562)scale(0.1 -0.1)\">\r\n       <use xlink:href=\"#DejaVuSans-53\"/>\r\n       <use x=\"63.623047\" xlink:href=\"#DejaVuSans-46\"/>\r\n       <use x=\"95.410156\" xlink:href=\"#DejaVuSans-48\"/>\r\n      </g>\r\n     </g>\r\n    </g>\r\n    <g id=\"xtick_4\">\r\n     <g id=\"line2d_4\">\r\n      <g>\r\n       <use style=\"stroke:#000000;stroke-width:0.8;\" x=\"176.32017\" xlink:href=\"#mfb5f628c50\" y=\"239.758125\"/>\r\n      </g>\r\n     </g>\r\n     <g id=\"text_4\">\r\n      <!-- 7.5 -->\r\n      <g transform=\"translate(168.368608 254.356562)scale(0.1 -0.1)\">\r\n       <defs>\r\n        <path d=\"M 8.203125 72.90625 \r\nL 55.078125 72.90625 \r\nL 55.078125 68.703125 \r\nL 28.609375 0 \r\nL 18.3125 0 \r\nL 43.21875 64.59375 \r\nL 8.203125 64.59375 \r\nz\r\n\" id=\"DejaVuSans-55\"/>\r\n       </defs>\r\n       <use xlink:href=\"#DejaVuSans-55\"/>\r\n       <use x=\"63.623047\" xlink:href=\"#DejaVuSans-46\"/>\r\n       <use x=\"95.410156\" xlink:href=\"#DejaVuSans-53\"/>\r\n      </g>\r\n     </g>\r\n    </g>\r\n    <g id=\"xtick_5\">\r\n     <g id=\"line2d_5\">\r\n      <g>\r\n       <use style=\"stroke:#000000;stroke-width:0.8;\" x=\"214.365625\" xlink:href=\"#mfb5f628c50\" y=\"239.758125\"/>\r\n      </g>\r\n     </g>\r\n     <g id=\"text_5\">\r\n      <!-- 10.0 -->\r\n      <g transform=\"translate(203.232813 254.356562)scale(0.1 -0.1)\">\r\n       <defs>\r\n        <path d=\"M 12.40625 8.296875 \r\nL 28.515625 8.296875 \r\nL 28.515625 63.921875 \r\nL 10.984375 60.40625 \r\nL 10.984375 69.390625 \r\nL 28.421875 72.90625 \r\nL 38.28125 72.90625 \r\nL 38.28125 8.296875 \r\nL 54.390625 8.296875 \r\nL 54.390625 0 \r\nL 12.40625 0 \r\nz\r\n\" id=\"DejaVuSans-49\"/>\r\n       </defs>\r\n       <use xlink:href=\"#DejaVuSans-49\"/>\r\n       <use x=\"63.623047\" xlink:href=\"#DejaVuSans-48\"/>\r\n       <use x=\"127.246094\" xlink:href=\"#DejaVuSans-46\"/>\r\n       <use x=\"159.033203\" xlink:href=\"#DejaVuSans-48\"/>\r\n      </g>\r\n     </g>\r\n    </g>\r\n    <g id=\"xtick_6\">\r\n     <g id=\"line2d_6\">\r\n      <g>\r\n       <use style=\"stroke:#000000;stroke-width:0.8;\" x=\"252.41108\" xlink:href=\"#mfb5f628c50\" y=\"239.758125\"/>\r\n      </g>\r\n     </g>\r\n     <g id=\"text_6\">\r\n      <!-- 12.5 -->\r\n      <g transform=\"translate(241.278267 254.356562)scale(0.1 -0.1)\">\r\n       <use xlink:href=\"#DejaVuSans-49\"/>\r\n       <use x=\"63.623047\" xlink:href=\"#DejaVuSans-50\"/>\r\n       <use x=\"127.246094\" xlink:href=\"#DejaVuSans-46\"/>\r\n       <use x=\"159.033203\" xlink:href=\"#DejaVuSans-53\"/>\r\n      </g>\r\n     </g>\r\n    </g>\r\n    <g id=\"xtick_7\">\r\n     <g id=\"line2d_7\">\r\n      <g>\r\n       <use style=\"stroke:#000000;stroke-width:0.8;\" x=\"290.456534\" xlink:href=\"#mfb5f628c50\" y=\"239.758125\"/>\r\n      </g>\r\n     </g>\r\n     <g id=\"text_7\">\r\n      <!-- 15.0 -->\r\n      <g transform=\"translate(279.323722 254.356562)scale(0.1 -0.1)\">\r\n       <use xlink:href=\"#DejaVuSans-49\"/>\r\n       <use x=\"63.623047\" xlink:href=\"#DejaVuSans-53\"/>\r\n       <use x=\"127.246094\" xlink:href=\"#DejaVuSans-46\"/>\r\n       <use x=\"159.033203\" xlink:href=\"#DejaVuSans-48\"/>\r\n      </g>\r\n     </g>\r\n    </g>\r\n    <g id=\"xtick_8\">\r\n     <g id=\"line2d_8\">\r\n      <g>\r\n       <use style=\"stroke:#000000;stroke-width:0.8;\" x=\"328.501989\" xlink:href=\"#mfb5f628c50\" y=\"239.758125\"/>\r\n      </g>\r\n     </g>\r\n     <g id=\"text_8\">\r\n      <!-- 17.5 -->\r\n      <g transform=\"translate(317.369176 254.356562)scale(0.1 -0.1)\">\r\n       <use xlink:href=\"#DejaVuSans-49\"/>\r\n       <use x=\"63.623047\" xlink:href=\"#DejaVuSans-55\"/>\r\n       <use x=\"127.246094\" xlink:href=\"#DejaVuSans-46\"/>\r\n       <use x=\"159.033203\" xlink:href=\"#DejaVuSans-53\"/>\r\n      </g>\r\n     </g>\r\n    </g>\r\n    <g id=\"xtick_9\">\r\n     <g id=\"line2d_9\">\r\n      <g>\r\n       <use style=\"stroke:#000000;stroke-width:0.8;\" x=\"366.547443\" xlink:href=\"#mfb5f628c50\" y=\"239.758125\"/>\r\n      </g>\r\n     </g>\r\n     <g id=\"text_9\">\r\n      <!-- 20.0 -->\r\n      <g transform=\"translate(355.414631 254.356562)scale(0.1 -0.1)\">\r\n       <use xlink:href=\"#DejaVuSans-50\"/>\r\n       <use x=\"63.623047\" xlink:href=\"#DejaVuSans-48\"/>\r\n       <use x=\"127.246094\" xlink:href=\"#DejaVuSans-46\"/>\r\n       <use x=\"159.033203\" xlink:href=\"#DejaVuSans-48\"/>\r\n      </g>\r\n     </g>\r\n    </g>\r\n    <g id=\"text_10\">\r\n     <!-- Time -->\r\n     <g transform=\"translate(202.132031 268.034687)scale(0.1 -0.1)\">\r\n      <defs>\r\n       <path d=\"M -0.296875 72.90625 \r\nL 61.375 72.90625 \r\nL 61.375 64.59375 \r\nL 35.5 64.59375 \r\nL 35.5 0 \r\nL 25.59375 0 \r\nL 25.59375 64.59375 \r\nL -0.296875 64.59375 \r\nz\r\n\" id=\"DejaVuSans-84\"/>\r\n       <path d=\"M 9.421875 54.6875 \r\nL 18.40625 54.6875 \r\nL 18.40625 0 \r\nL 9.421875 0 \r\nz\r\nM 9.421875 75.984375 \r\nL 18.40625 75.984375 \r\nL 18.40625 64.59375 \r\nL 9.421875 64.59375 \r\nz\r\n\" id=\"DejaVuSans-105\"/>\r\n       <path d=\"M 52 44.1875 \r\nQ 55.375 50.25 60.0625 53.125 \r\nQ 64.75 56 71.09375 56 \r\nQ 79.640625 56 84.28125 50.015625 \r\nQ 88.921875 44.046875 88.921875 33.015625 \r\nL 88.921875 0 \r\nL 79.890625 0 \r\nL 79.890625 32.71875 \r\nQ 79.890625 40.578125 77.09375 44.375 \r\nQ 74.3125 48.1875 68.609375 48.1875 \r\nQ 61.625 48.1875 57.5625 43.546875 \r\nQ 53.515625 38.921875 53.515625 30.90625 \r\nL 53.515625 0 \r\nL 44.484375 0 \r\nL 44.484375 32.71875 \r\nQ 44.484375 40.625 41.703125 44.40625 \r\nQ 38.921875 48.1875 33.109375 48.1875 \r\nQ 26.21875 48.1875 22.15625 43.53125 \r\nQ 18.109375 38.875 18.109375 30.90625 \r\nL 18.109375 0 \r\nL 9.078125 0 \r\nL 9.078125 54.6875 \r\nL 18.109375 54.6875 \r\nL 18.109375 46.1875 \r\nQ 21.1875 51.21875 25.484375 53.609375 \r\nQ 29.78125 56 35.6875 56 \r\nQ 41.65625 56 45.828125 52.96875 \r\nQ 50 49.953125 52 44.1875 \r\nz\r\n\" id=\"DejaVuSans-109\"/>\r\n       <path d=\"M 56.203125 29.59375 \r\nL 56.203125 25.203125 \r\nL 14.890625 25.203125 \r\nQ 15.484375 15.921875 20.484375 11.0625 \r\nQ 25.484375 6.203125 34.421875 6.203125 \r\nQ 39.59375 6.203125 44.453125 7.46875 \r\nQ 49.3125 8.734375 54.109375 11.28125 \r\nL 54.109375 2.78125 \r\nQ 49.265625 0.734375 44.1875 -0.34375 \r\nQ 39.109375 -1.421875 33.890625 -1.421875 \r\nQ 20.796875 -1.421875 13.15625 6.1875 \r\nQ 5.515625 13.8125 5.515625 26.8125 \r\nQ 5.515625 40.234375 12.765625 48.109375 \r\nQ 20.015625 56 32.328125 56 \r\nQ 43.359375 56 49.78125 48.890625 \r\nQ 56.203125 41.796875 56.203125 29.59375 \r\nz\r\nM 47.21875 32.234375 \r\nQ 47.125 39.59375 43.09375 43.984375 \r\nQ 39.0625 48.390625 32.421875 48.390625 \r\nQ 24.90625 48.390625 20.390625 44.140625 \r\nQ 15.875 39.890625 15.1875 32.171875 \r\nz\r\n\" id=\"DejaVuSans-101\"/>\r\n      </defs>\r\n      <use xlink:href=\"#DejaVuSans-84\"/>\r\n      <use x=\"57.958984\" xlink:href=\"#DejaVuSans-105\"/>\r\n      <use x=\"85.742188\" xlink:href=\"#DejaVuSans-109\"/>\r\n      <use x=\"183.154297\" xlink:href=\"#DejaVuSans-101\"/>\r\n     </g>\r\n    </g>\r\n   </g>\r\n   <g id=\"matplotlib.axis_2\">\r\n    <g id=\"ytick_1\">\r\n     <g id=\"line2d_10\">\r\n      <defs>\r\n       <path d=\"M 0 0 \r\nL -3.5 0 \r\n\" id=\"madb9aca146\" style=\"stroke:#000000;stroke-width:0.8;\"/>\r\n      </defs>\r\n      <g>\r\n       <use style=\"stroke:#000000;stroke-width:0.8;\" x=\"46.965625\" xlink:href=\"#madb9aca146\" y=\"205.914158\"/>\r\n      </g>\r\n     </g>\r\n     <g id=\"text_11\">\r\n      <!-- 380 -->\r\n      <g transform=\"translate(20.878125 209.713377)scale(0.1 -0.1)\">\r\n       <defs>\r\n        <path d=\"M 40.578125 39.3125 \r\nQ 47.65625 37.796875 51.625 33 \r\nQ 55.609375 28.21875 55.609375 21.1875 \r\nQ 55.609375 10.40625 48.1875 4.484375 \r\nQ 40.765625 -1.421875 27.09375 -1.421875 \r\nQ 22.515625 -1.421875 17.65625 -0.515625 \r\nQ 12.796875 0.390625 7.625 2.203125 \r\nL 7.625 11.71875 \r\nQ 11.71875 9.328125 16.59375 8.109375 \r\nQ 21.484375 6.890625 26.8125 6.890625 \r\nQ 36.078125 6.890625 40.9375 10.546875 \r\nQ 45.796875 14.203125 45.796875 21.1875 \r\nQ 45.796875 27.640625 41.28125 31.265625 \r\nQ 36.765625 34.90625 28.71875 34.90625 \r\nL 20.21875 34.90625 \r\nL 20.21875 43.015625 \r\nL 29.109375 43.015625 \r\nQ 36.375 43.015625 40.234375 45.921875 \r\nQ 44.09375 48.828125 44.09375 54.296875 \r\nQ 44.09375 59.90625 40.109375 62.90625 \r\nQ 36.140625 65.921875 28.71875 65.921875 \r\nQ 24.65625 65.921875 20.015625 65.03125 \r\nQ 15.375 64.15625 9.8125 62.3125 \r\nL 9.8125 71.09375 \r\nQ 15.4375 72.65625 20.34375 73.4375 \r\nQ 25.25 74.21875 29.59375 74.21875 \r\nQ 40.828125 74.21875 47.359375 69.109375 \r\nQ 53.90625 64.015625 53.90625 55.328125 \r\nQ 53.90625 49.265625 50.4375 45.09375 \r\nQ 46.96875 40.921875 40.578125 39.3125 \r\nz\r\n\" id=\"DejaVuSans-51\"/>\r\n        <path d=\"M 31.78125 34.625 \r\nQ 24.75 34.625 20.71875 30.859375 \r\nQ 16.703125 27.09375 16.703125 20.515625 \r\nQ 16.703125 13.921875 20.71875 10.15625 \r\nQ 24.75 6.390625 31.78125 6.390625 \r\nQ 38.8125 6.390625 42.859375 10.171875 \r\nQ 46.921875 13.96875 46.921875 20.515625 \r\nQ 46.921875 27.09375 42.890625 30.859375 \r\nQ 38.875 34.625 31.78125 34.625 \r\nz\r\nM 21.921875 38.8125 \r\nQ 15.578125 40.375 12.03125 44.71875 \r\nQ 8.5 49.078125 8.5 55.328125 \r\nQ 8.5 64.0625 14.71875 69.140625 \r\nQ 20.953125 74.21875 31.78125 74.21875 \r\nQ 42.671875 74.21875 48.875 69.140625 \r\nQ 55.078125 64.0625 55.078125 55.328125 \r\nQ 55.078125 49.078125 51.53125 44.71875 \r\nQ 48 40.375 41.703125 38.8125 \r\nQ 48.828125 37.15625 52.796875 32.3125 \r\nQ 56.78125 27.484375 56.78125 20.515625 \r\nQ 56.78125 9.90625 50.3125 4.234375 \r\nQ 43.84375 -1.421875 31.78125 -1.421875 \r\nQ 19.734375 -1.421875 13.25 4.234375 \r\nQ 6.78125 9.90625 6.78125 20.515625 \r\nQ 6.78125 27.484375 10.78125 32.3125 \r\nQ 14.796875 37.15625 21.921875 38.8125 \r\nz\r\nM 18.3125 54.390625 \r\nQ 18.3125 48.734375 21.84375 45.5625 \r\nQ 25.390625 42.390625 31.78125 42.390625 \r\nQ 38.140625 42.390625 41.71875 45.5625 \r\nQ 45.3125 48.734375 45.3125 54.390625 \r\nQ 45.3125 60.0625 41.71875 63.234375 \r\nQ 38.140625 66.40625 31.78125 66.40625 \r\nQ 25.390625 66.40625 21.84375 63.234375 \r\nQ 18.3125 60.0625 18.3125 54.390625 \r\nz\r\n\" id=\"DejaVuSans-56\"/>\r\n       </defs>\r\n       <use xlink:href=\"#DejaVuSans-51\"/>\r\n       <use x=\"63.623047\" xlink:href=\"#DejaVuSans-56\"/>\r\n       <use x=\"127.246094\" xlink:href=\"#DejaVuSans-48\"/>\r\n      </g>\r\n     </g>\r\n    </g>\r\n    <g id=\"ytick_2\">\r\n     <g id=\"line2d_11\">\r\n      <g>\r\n       <use style=\"stroke:#000000;stroke-width:0.8;\" x=\"46.965625\" xlink:href=\"#madb9aca146\" y=\"165.980274\"/>\r\n      </g>\r\n     </g>\r\n     <g id=\"text_12\">\r\n      <!-- 400 -->\r\n      <g transform=\"translate(20.878125 169.779493)scale(0.1 -0.1)\">\r\n       <defs>\r\n        <path d=\"M 37.796875 64.3125 \r\nL 12.890625 25.390625 \r\nL 37.796875 25.390625 \r\nz\r\nM 35.203125 72.90625 \r\nL 47.609375 72.90625 \r\nL 47.609375 25.390625 \r\nL 58.015625 25.390625 \r\nL 58.015625 17.1875 \r\nL 47.609375 17.1875 \r\nL 47.609375 0 \r\nL 37.796875 0 \r\nL 37.796875 17.1875 \r\nL 4.890625 17.1875 \r\nL 4.890625 26.703125 \r\nz\r\n\" id=\"DejaVuSans-52\"/>\r\n       </defs>\r\n       <use xlink:href=\"#DejaVuSans-52\"/>\r\n       <use x=\"63.623047\" xlink:href=\"#DejaVuSans-48\"/>\r\n       <use x=\"127.246094\" xlink:href=\"#DejaVuSans-48\"/>\r\n      </g>\r\n     </g>\r\n    </g>\r\n    <g id=\"ytick_3\">\r\n     <g id=\"line2d_12\">\r\n      <g>\r\n       <use style=\"stroke:#000000;stroke-width:0.8;\" x=\"46.965625\" xlink:href=\"#madb9aca146\" y=\"126.046389\"/>\r\n      </g>\r\n     </g>\r\n     <g id=\"text_13\">\r\n      <!-- 420 -->\r\n      <g transform=\"translate(20.878125 129.845608)scale(0.1 -0.1)\">\r\n       <use xlink:href=\"#DejaVuSans-52\"/>\r\n       <use x=\"63.623047\" xlink:href=\"#DejaVuSans-50\"/>\r\n       <use x=\"127.246094\" xlink:href=\"#DejaVuSans-48\"/>\r\n      </g>\r\n     </g>\r\n    </g>\r\n    <g id=\"ytick_4\">\r\n     <g id=\"line2d_13\">\r\n      <g>\r\n       <use style=\"stroke:#000000;stroke-width:0.8;\" x=\"46.965625\" xlink:href=\"#madb9aca146\" y=\"86.112505\"/>\r\n      </g>\r\n     </g>\r\n     <g id=\"text_14\">\r\n      <!-- 440 -->\r\n      <g transform=\"translate(20.878125 89.911724)scale(0.1 -0.1)\">\r\n       <use xlink:href=\"#DejaVuSans-52\"/>\r\n       <use x=\"63.623047\" xlink:href=\"#DejaVuSans-52\"/>\r\n       <use x=\"127.246094\" xlink:href=\"#DejaVuSans-48\"/>\r\n      </g>\r\n     </g>\r\n    </g>\r\n    <g id=\"ytick_5\">\r\n     <g id=\"line2d_14\">\r\n      <g>\r\n       <use style=\"stroke:#000000;stroke-width:0.8;\" x=\"46.965625\" xlink:href=\"#madb9aca146\" y=\"46.178621\"/>\r\n      </g>\r\n     </g>\r\n     <g id=\"text_15\">\r\n      <!-- 460 -->\r\n      <g transform=\"translate(20.878125 49.97784)scale(0.1 -0.1)\">\r\n       <defs>\r\n        <path d=\"M 33.015625 40.375 \r\nQ 26.375 40.375 22.484375 35.828125 \r\nQ 18.609375 31.296875 18.609375 23.390625 \r\nQ 18.609375 15.53125 22.484375 10.953125 \r\nQ 26.375 6.390625 33.015625 6.390625 \r\nQ 39.65625 6.390625 43.53125 10.953125 \r\nQ 47.40625 15.53125 47.40625 23.390625 \r\nQ 47.40625 31.296875 43.53125 35.828125 \r\nQ 39.65625 40.375 33.015625 40.375 \r\nz\r\nM 52.59375 71.296875 \r\nL 52.59375 62.3125 \r\nQ 48.875 64.0625 45.09375 64.984375 \r\nQ 41.3125 65.921875 37.59375 65.921875 \r\nQ 27.828125 65.921875 22.671875 59.328125 \r\nQ 17.53125 52.734375 16.796875 39.40625 \r\nQ 19.671875 43.65625 24.015625 45.921875 \r\nQ 28.375 48.1875 33.59375 48.1875 \r\nQ 44.578125 48.1875 50.953125 41.515625 \r\nQ 57.328125 34.859375 57.328125 23.390625 \r\nQ 57.328125 12.15625 50.6875 5.359375 \r\nQ 44.046875 -1.421875 33.015625 -1.421875 \r\nQ 20.359375 -1.421875 13.671875 8.265625 \r\nQ 6.984375 17.96875 6.984375 36.375 \r\nQ 6.984375 53.65625 15.1875 63.9375 \r\nQ 23.390625 74.21875 37.203125 74.21875 \r\nQ 40.921875 74.21875 44.703125 73.484375 \r\nQ 48.484375 72.75 52.59375 71.296875 \r\nz\r\n\" id=\"DejaVuSans-54\"/>\r\n       </defs>\r\n       <use xlink:href=\"#DejaVuSans-52\"/>\r\n       <use x=\"63.623047\" xlink:href=\"#DejaVuSans-54\"/>\r\n       <use x=\"127.246094\" xlink:href=\"#DejaVuSans-48\"/>\r\n      </g>\r\n     </g>\r\n    </g>\r\n    <g id=\"text_16\">\r\n     <!-- ADBL stock Price -->\r\n     <g transform=\"translate(14.798438 173.169375)rotate(-90)scale(0.1 -0.1)\">\r\n      <defs>\r\n       <path d=\"M 34.1875 63.1875 \r\nL 20.796875 26.90625 \r\nL 47.609375 26.90625 \r\nz\r\nM 28.609375 72.90625 \r\nL 39.796875 72.90625 \r\nL 67.578125 0 \r\nL 57.328125 0 \r\nL 50.6875 18.703125 \r\nL 17.828125 18.703125 \r\nL 11.1875 0 \r\nL 0.78125 0 \r\nz\r\n\" id=\"DejaVuSans-65\"/>\r\n       <path d=\"M 19.671875 64.796875 \r\nL 19.671875 8.109375 \r\nL 31.59375 8.109375 \r\nQ 46.6875 8.109375 53.6875 14.9375 \r\nQ 60.6875 21.78125 60.6875 36.53125 \r\nQ 60.6875 51.171875 53.6875 57.984375 \r\nQ 46.6875 64.796875 31.59375 64.796875 \r\nz\r\nM 9.8125 72.90625 \r\nL 30.078125 72.90625 \r\nQ 51.265625 72.90625 61.171875 64.09375 \r\nQ 71.09375 55.28125 71.09375 36.53125 \r\nQ 71.09375 17.671875 61.125 8.828125 \r\nQ 51.171875 0 30.078125 0 \r\nL 9.8125 0 \r\nz\r\n\" id=\"DejaVuSans-68\"/>\r\n       <path d=\"M 19.671875 34.8125 \r\nL 19.671875 8.109375 \r\nL 35.5 8.109375 \r\nQ 43.453125 8.109375 47.28125 11.40625 \r\nQ 51.125 14.703125 51.125 21.484375 \r\nQ 51.125 28.328125 47.28125 31.5625 \r\nQ 43.453125 34.8125 35.5 34.8125 \r\nz\r\nM 19.671875 64.796875 \r\nL 19.671875 42.828125 \r\nL 34.28125 42.828125 \r\nQ 41.5 42.828125 45.03125 45.53125 \r\nQ 48.578125 48.25 48.578125 53.8125 \r\nQ 48.578125 59.328125 45.03125 62.0625 \r\nQ 41.5 64.796875 34.28125 64.796875 \r\nz\r\nM 9.8125 72.90625 \r\nL 35.015625 72.90625 \r\nQ 46.296875 72.90625 52.390625 68.21875 \r\nQ 58.5 63.53125 58.5 54.890625 \r\nQ 58.5 48.1875 55.375 44.234375 \r\nQ 52.25 40.28125 46.1875 39.3125 \r\nQ 53.46875 37.75 57.5 32.78125 \r\nQ 61.53125 27.828125 61.53125 20.40625 \r\nQ 61.53125 10.640625 54.890625 5.3125 \r\nQ 48.25 0 35.984375 0 \r\nL 9.8125 0 \r\nz\r\n\" id=\"DejaVuSans-66\"/>\r\n       <path d=\"M 9.8125 72.90625 \r\nL 19.671875 72.90625 \r\nL 19.671875 8.296875 \r\nL 55.171875 8.296875 \r\nL 55.171875 0 \r\nL 9.8125 0 \r\nz\r\n\" id=\"DejaVuSans-76\"/>\r\n       <path id=\"DejaVuSans-32\"/>\r\n       <path d=\"M 44.28125 53.078125 \r\nL 44.28125 44.578125 \r\nQ 40.484375 46.53125 36.375 47.5 \r\nQ 32.28125 48.484375 27.875 48.484375 \r\nQ 21.1875 48.484375 17.84375 46.4375 \r\nQ 14.5 44.390625 14.5 40.28125 \r\nQ 14.5 37.15625 16.890625 35.375 \r\nQ 19.28125 33.59375 26.515625 31.984375 \r\nL 29.59375 31.296875 \r\nQ 39.15625 29.25 43.1875 25.515625 \r\nQ 47.21875 21.78125 47.21875 15.09375 \r\nQ 47.21875 7.46875 41.1875 3.015625 \r\nQ 35.15625 -1.421875 24.609375 -1.421875 \r\nQ 20.21875 -1.421875 15.453125 -0.5625 \r\nQ 10.6875 0.296875 5.421875 2 \r\nL 5.421875 11.28125 \r\nQ 10.40625 8.6875 15.234375 7.390625 \r\nQ 20.0625 6.109375 24.8125 6.109375 \r\nQ 31.15625 6.109375 34.5625 8.28125 \r\nQ 37.984375 10.453125 37.984375 14.40625 \r\nQ 37.984375 18.0625 35.515625 20.015625 \r\nQ 33.0625 21.96875 24.703125 23.78125 \r\nL 21.578125 24.515625 \r\nQ 13.234375 26.265625 9.515625 29.90625 \r\nQ 5.8125 33.546875 5.8125 39.890625 \r\nQ 5.8125 47.609375 11.28125 51.796875 \r\nQ 16.75 56 26.8125 56 \r\nQ 31.78125 56 36.171875 55.265625 \r\nQ 40.578125 54.546875 44.28125 53.078125 \r\nz\r\n\" id=\"DejaVuSans-115\"/>\r\n       <path d=\"M 18.3125 70.21875 \r\nL 18.3125 54.6875 \r\nL 36.8125 54.6875 \r\nL 36.8125 47.703125 \r\nL 18.3125 47.703125 \r\nL 18.3125 18.015625 \r\nQ 18.3125 11.328125 20.140625 9.421875 \r\nQ 21.96875 7.515625 27.59375 7.515625 \r\nL 36.8125 7.515625 \r\nL 36.8125 0 \r\nL 27.59375 0 \r\nQ 17.1875 0 13.234375 3.875 \r\nQ 9.28125 7.765625 9.28125 18.015625 \r\nL 9.28125 47.703125 \r\nL 2.6875 47.703125 \r\nL 2.6875 54.6875 \r\nL 9.28125 54.6875 \r\nL 9.28125 70.21875 \r\nz\r\n\" id=\"DejaVuSans-116\"/>\r\n       <path d=\"M 30.609375 48.390625 \r\nQ 23.390625 48.390625 19.1875 42.75 \r\nQ 14.984375 37.109375 14.984375 27.296875 \r\nQ 14.984375 17.484375 19.15625 11.84375 \r\nQ 23.34375 6.203125 30.609375 6.203125 \r\nQ 37.796875 6.203125 41.984375 11.859375 \r\nQ 46.1875 17.53125 46.1875 27.296875 \r\nQ 46.1875 37.015625 41.984375 42.703125 \r\nQ 37.796875 48.390625 30.609375 48.390625 \r\nz\r\nM 30.609375 56 \r\nQ 42.328125 56 49.015625 48.375 \r\nQ 55.71875 40.765625 55.71875 27.296875 \r\nQ 55.71875 13.875 49.015625 6.21875 \r\nQ 42.328125 -1.421875 30.609375 -1.421875 \r\nQ 18.84375 -1.421875 12.171875 6.21875 \r\nQ 5.515625 13.875 5.515625 27.296875 \r\nQ 5.515625 40.765625 12.171875 48.375 \r\nQ 18.84375 56 30.609375 56 \r\nz\r\n\" id=\"DejaVuSans-111\"/>\r\n       <path d=\"M 48.78125 52.59375 \r\nL 48.78125 44.1875 \r\nQ 44.96875 46.296875 41.140625 47.34375 \r\nQ 37.3125 48.390625 33.40625 48.390625 \r\nQ 24.65625 48.390625 19.8125 42.84375 \r\nQ 14.984375 37.3125 14.984375 27.296875 \r\nQ 14.984375 17.28125 19.8125 11.734375 \r\nQ 24.65625 6.203125 33.40625 6.203125 \r\nQ 37.3125 6.203125 41.140625 7.25 \r\nQ 44.96875 8.296875 48.78125 10.40625 \r\nL 48.78125 2.09375 \r\nQ 45.015625 0.34375 40.984375 -0.53125 \r\nQ 36.96875 -1.421875 32.421875 -1.421875 \r\nQ 20.0625 -1.421875 12.78125 6.34375 \r\nQ 5.515625 14.109375 5.515625 27.296875 \r\nQ 5.515625 40.671875 12.859375 48.328125 \r\nQ 20.21875 56 33.015625 56 \r\nQ 37.15625 56 41.109375 55.140625 \r\nQ 45.0625 54.296875 48.78125 52.59375 \r\nz\r\n\" id=\"DejaVuSans-99\"/>\r\n       <path d=\"M 9.078125 75.984375 \r\nL 18.109375 75.984375 \r\nL 18.109375 31.109375 \r\nL 44.921875 54.6875 \r\nL 56.390625 54.6875 \r\nL 27.390625 29.109375 \r\nL 57.625 0 \r\nL 45.90625 0 \r\nL 18.109375 26.703125 \r\nL 18.109375 0 \r\nL 9.078125 0 \r\nz\r\n\" id=\"DejaVuSans-107\"/>\r\n       <path d=\"M 19.671875 64.796875 \r\nL 19.671875 37.40625 \r\nL 32.078125 37.40625 \r\nQ 38.96875 37.40625 42.71875 40.96875 \r\nQ 46.484375 44.53125 46.484375 51.125 \r\nQ 46.484375 57.671875 42.71875 61.234375 \r\nQ 38.96875 64.796875 32.078125 64.796875 \r\nz\r\nM 9.8125 72.90625 \r\nL 32.078125 72.90625 \r\nQ 44.34375 72.90625 50.609375 67.359375 \r\nQ 56.890625 61.8125 56.890625 51.125 \r\nQ 56.890625 40.328125 50.609375 34.8125 \r\nQ 44.34375 29.296875 32.078125 29.296875 \r\nL 19.671875 29.296875 \r\nL 19.671875 0 \r\nL 9.8125 0 \r\nz\r\n\" id=\"DejaVuSans-80\"/>\r\n       <path d=\"M 41.109375 46.296875 \r\nQ 39.59375 47.171875 37.8125 47.578125 \r\nQ 36.03125 48 33.890625 48 \r\nQ 26.265625 48 22.1875 43.046875 \r\nQ 18.109375 38.09375 18.109375 28.8125 \r\nL 18.109375 0 \r\nL 9.078125 0 \r\nL 9.078125 54.6875 \r\nL 18.109375 54.6875 \r\nL 18.109375 46.1875 \r\nQ 20.953125 51.171875 25.484375 53.578125 \r\nQ 30.03125 56 36.53125 56 \r\nQ 37.453125 56 38.578125 55.875 \r\nQ 39.703125 55.765625 41.0625 55.515625 \r\nz\r\n\" id=\"DejaVuSans-114\"/>\r\n      </defs>\r\n      <use xlink:href=\"#DejaVuSans-65\"/>\r\n      <use x=\"68.408203\" xlink:href=\"#DejaVuSans-68\"/>\r\n      <use x=\"145.410156\" xlink:href=\"#DejaVuSans-66\"/>\r\n      <use x=\"214.013672\" xlink:href=\"#DejaVuSans-76\"/>\r\n      <use x=\"269.726562\" xlink:href=\"#DejaVuSans-32\"/>\r\n      <use x=\"301.513672\" xlink:href=\"#DejaVuSans-115\"/>\r\n      <use x=\"353.613281\" xlink:href=\"#DejaVuSans-116\"/>\r\n      <use x=\"392.822266\" xlink:href=\"#DejaVuSans-111\"/>\r\n      <use x=\"454.003906\" xlink:href=\"#DejaVuSans-99\"/>\r\n      <use x=\"508.984375\" xlink:href=\"#DejaVuSans-107\"/>\r\n      <use x=\"566.894531\" xlink:href=\"#DejaVuSans-32\"/>\r\n      <use x=\"598.681641\" xlink:href=\"#DejaVuSans-80\"/>\r\n      <use x=\"657.234375\" xlink:href=\"#DejaVuSans-114\"/>\r\n      <use x=\"698.347656\" xlink:href=\"#DejaVuSans-105\"/>\r\n      <use x=\"726.130859\" xlink:href=\"#DejaVuSans-99\"/>\r\n      <use x=\"781.111328\" xlink:href=\"#DejaVuSans-101\"/>\r\n     </g>\r\n    </g>\r\n   </g>\r\n   <g id=\"line2d_15\">\r\n    <path clip-path=\"url(#p018fcfdf02)\" d=\"M 62.183807 171.970356 \r\nL 77.401989 169.973662 \r\nL 92.62017 104.082753 \r\nL 107.838352 102.086059 \r\nL 123.056534 96.095976 \r\nL 138.274716 60.15548 \r\nL 153.492898 32.201761 \r\nL 168.71108 62.152175 \r\nL 183.929261 126.046389 \r\nL 199.147443 116.062918 \r\nL 214.365625 134.033166 \r\nL 229.583807 155.996803 \r\nL 244.801989 205.914158 \r\nL 260.02017 154.000108 \r\nL 275.238352 171.970356 \r\nL 290.456534 201.92077 \r\nL 305.674716 201.92077 \r\nL 320.892898 209.907546 \r\nL 336.11108 217.894323 \r\nL 351.329261 213.900935 \r\nL 366.547443 229.874489 \r\n\" style=\"fill:none;stroke:#ff0000;stroke-linecap:square;stroke-width:1.5;\"/>\r\n   </g>\r\n   <g id=\"line2d_16\">\r\n    <path clip-path=\"url(#p018fcfdf02)\" d=\"M 62.183807 167.135588 \r\nL 77.401989 163.551677 \r\nL 92.62017 162.322938 \r\nL 107.838352 138.010224 \r\nL 123.056534 111.729334 \r\nL 138.274716 95.697893 \r\nL 153.492898 76.503963 \r\nL 168.71108 51.449009 \r\nL 183.929261 46.899595 \r\nL 199.147443 77.123238 \r\nL 214.365625 101.89241 \r\nL 229.583807 117.425409 \r\nL 244.801989 130.997969 \r\nL 260.02017 156.722652 \r\nL 275.238352 159.964721 \r\nL 290.456534 157.235901 \r\nL 305.674716 166.558784 \r\nL 320.892898 178.540472 \r\nL 336.11108 189.015317 \r\nL 351.329261 197.751342 \r\n\" style=\"fill:none;stroke:#0000ff;stroke-linecap:square;stroke-width:1.5;\"/>\r\n   </g>\r\n   <g id=\"patch_3\">\r\n    <path d=\"M 46.965625 239.758125 \r\nL 46.965625 22.318125 \r\n\" style=\"fill:none;stroke:#000000;stroke-linecap:square;stroke-linejoin:miter;stroke-width:0.8;\"/>\r\n   </g>\r\n   <g id=\"patch_4\">\r\n    <path d=\"M 381.765625 239.758125 \r\nL 381.765625 22.318125 \r\n\" style=\"fill:none;stroke:#000000;stroke-linecap:square;stroke-linejoin:miter;stroke-width:0.8;\"/>\r\n   </g>\r\n   <g id=\"patch_5\">\r\n    <path d=\"M 46.965625 239.758125 \r\nL 381.765625 239.758125 \r\n\" style=\"fill:none;stroke:#000000;stroke-linecap:square;stroke-linejoin:miter;stroke-width:0.8;\"/>\r\n   </g>\r\n   <g id=\"patch_6\">\r\n    <path d=\"M 46.965625 22.318125 \r\nL 381.765625 22.318125 \r\n\" style=\"fill:none;stroke:#000000;stroke-linecap:square;stroke-linejoin:miter;stroke-width:0.8;\"/>\r\n   </g>\r\n   <g id=\"text_17\">\r\n    <!-- ADBL Stock Price Prediction -->\r\n    <g transform=\"translate(131.41375 16.318125)scale(0.12 -0.12)\">\r\n     <defs>\r\n      <path d=\"M 53.515625 70.515625 \r\nL 53.515625 60.890625 \r\nQ 47.90625 63.578125 42.921875 64.890625 \r\nQ 37.9375 66.21875 33.296875 66.21875 \r\nQ 25.25 66.21875 20.875 63.09375 \r\nQ 16.5 59.96875 16.5 54.203125 \r\nQ 16.5 49.359375 19.40625 46.890625 \r\nQ 22.3125 44.4375 30.421875 42.921875 \r\nL 36.375 41.703125 \r\nQ 47.40625 39.59375 52.65625 34.296875 \r\nQ 57.90625 29 57.90625 20.125 \r\nQ 57.90625 9.515625 50.796875 4.046875 \r\nQ 43.703125 -1.421875 29.984375 -1.421875 \r\nQ 24.8125 -1.421875 18.96875 -0.25 \r\nQ 13.140625 0.921875 6.890625 3.21875 \r\nL 6.890625 13.375 \r\nQ 12.890625 10.015625 18.65625 8.296875 \r\nQ 24.421875 6.59375 29.984375 6.59375 \r\nQ 38.421875 6.59375 43.015625 9.90625 \r\nQ 47.609375 13.234375 47.609375 19.390625 \r\nQ 47.609375 24.75 44.3125 27.78125 \r\nQ 41.015625 30.8125 33.5 32.328125 \r\nL 27.484375 33.5 \r\nQ 16.453125 35.6875 11.515625 40.375 \r\nQ 6.59375 45.0625 6.59375 53.421875 \r\nQ 6.59375 63.09375 13.40625 68.65625 \r\nQ 20.21875 74.21875 32.171875 74.21875 \r\nQ 37.3125 74.21875 42.625 73.28125 \r\nQ 47.953125 72.359375 53.515625 70.515625 \r\nz\r\n\" id=\"DejaVuSans-83\"/>\r\n      <path d=\"M 45.40625 46.390625 \r\nL 45.40625 75.984375 \r\nL 54.390625 75.984375 \r\nL 54.390625 0 \r\nL 45.40625 0 \r\nL 45.40625 8.203125 \r\nQ 42.578125 3.328125 38.25 0.953125 \r\nQ 33.9375 -1.421875 27.875 -1.421875 \r\nQ 17.96875 -1.421875 11.734375 6.484375 \r\nQ 5.515625 14.40625 5.515625 27.296875 \r\nQ 5.515625 40.1875 11.734375 48.09375 \r\nQ 17.96875 56 27.875 56 \r\nQ 33.9375 56 38.25 53.625 \r\nQ 42.578125 51.265625 45.40625 46.390625 \r\nz\r\nM 14.796875 27.296875 \r\nQ 14.796875 17.390625 18.875 11.75 \r\nQ 22.953125 6.109375 30.078125 6.109375 \r\nQ 37.203125 6.109375 41.296875 11.75 \r\nQ 45.40625 17.390625 45.40625 27.296875 \r\nQ 45.40625 37.203125 41.296875 42.84375 \r\nQ 37.203125 48.484375 30.078125 48.484375 \r\nQ 22.953125 48.484375 18.875 42.84375 \r\nQ 14.796875 37.203125 14.796875 27.296875 \r\nz\r\n\" id=\"DejaVuSans-100\"/>\r\n      <path d=\"M 54.890625 33.015625 \r\nL 54.890625 0 \r\nL 45.90625 0 \r\nL 45.90625 32.71875 \r\nQ 45.90625 40.484375 42.875 44.328125 \r\nQ 39.84375 48.1875 33.796875 48.1875 \r\nQ 26.515625 48.1875 22.3125 43.546875 \r\nQ 18.109375 38.921875 18.109375 30.90625 \r\nL 18.109375 0 \r\nL 9.078125 0 \r\nL 9.078125 54.6875 \r\nL 18.109375 54.6875 \r\nL 18.109375 46.1875 \r\nQ 21.34375 51.125 25.703125 53.5625 \r\nQ 30.078125 56 35.796875 56 \r\nQ 45.21875 56 50.046875 50.171875 \r\nQ 54.890625 44.34375 54.890625 33.015625 \r\nz\r\n\" id=\"DejaVuSans-110\"/>\r\n     </defs>\r\n     <use xlink:href=\"#DejaVuSans-65\"/>\r\n     <use x=\"68.408203\" xlink:href=\"#DejaVuSans-68\"/>\r\n     <use x=\"145.410156\" xlink:href=\"#DejaVuSans-66\"/>\r\n     <use x=\"214.013672\" xlink:href=\"#DejaVuSans-76\"/>\r\n     <use x=\"269.726562\" xlink:href=\"#DejaVuSans-32\"/>\r\n     <use x=\"301.513672\" xlink:href=\"#DejaVuSans-83\"/>\r\n     <use x=\"364.990234\" xlink:href=\"#DejaVuSans-116\"/>\r\n     <use x=\"404.199219\" xlink:href=\"#DejaVuSans-111\"/>\r\n     <use x=\"465.380859\" xlink:href=\"#DejaVuSans-99\"/>\r\n     <use x=\"520.361328\" xlink:href=\"#DejaVuSans-107\"/>\r\n     <use x=\"578.271484\" xlink:href=\"#DejaVuSans-32\"/>\r\n     <use x=\"610.058594\" xlink:href=\"#DejaVuSans-80\"/>\r\n     <use x=\"668.611328\" xlink:href=\"#DejaVuSans-114\"/>\r\n     <use x=\"709.724609\" xlink:href=\"#DejaVuSans-105\"/>\r\n     <use x=\"737.507812\" xlink:href=\"#DejaVuSans-99\"/>\r\n     <use x=\"792.488281\" xlink:href=\"#DejaVuSans-101\"/>\r\n     <use x=\"854.011719\" xlink:href=\"#DejaVuSans-32\"/>\r\n     <use x=\"885.798828\" xlink:href=\"#DejaVuSans-80\"/>\r\n     <use x=\"944.351562\" xlink:href=\"#DejaVuSans-114\"/>\r\n     <use x=\"983.214844\" xlink:href=\"#DejaVuSans-101\"/>\r\n     <use x=\"1044.738281\" xlink:href=\"#DejaVuSans-100\"/>\r\n     <use x=\"1108.214844\" xlink:href=\"#DejaVuSans-105\"/>\r\n     <use x=\"1135.998047\" xlink:href=\"#DejaVuSans-99\"/>\r\n     <use x=\"1190.978516\" xlink:href=\"#DejaVuSans-116\"/>\r\n     <use x=\"1230.1875\" xlink:href=\"#DejaVuSans-105\"/>\r\n     <use x=\"1257.970703\" xlink:href=\"#DejaVuSans-111\"/>\r\n     <use x=\"1319.152344\" xlink:href=\"#DejaVuSans-110\"/>\r\n    </g>\r\n   </g>\r\n   <g id=\"legend_1\">\r\n    <g id=\"patch_7\">\r\n     <path d=\"M 207.245313 59.674375 \r\nL 374.765625 59.674375 \r\nQ 376.765625 59.674375 376.765625 57.674375 \r\nL 376.765625 29.318125 \r\nQ 376.765625 27.318125 374.765625 27.318125 \r\nL 207.245313 27.318125 \r\nQ 205.245313 27.318125 205.245313 29.318125 \r\nL 205.245313 57.674375 \r\nQ 205.245313 59.674375 207.245313 59.674375 \r\nz\r\n\" style=\"fill:#ffffff;opacity:0.8;stroke:#cccccc;stroke-linejoin:miter;\"/>\r\n    </g>\r\n    <g id=\"line2d_17\">\r\n     <path d=\"M 209.245313 35.416562 \r\nL 229.245313 35.416562 \r\n\" style=\"fill:none;stroke:#ff0000;stroke-linecap:square;stroke-width:1.5;\"/>\r\n    </g>\r\n    <g id=\"line2d_18\"/>\r\n    <g id=\"text_18\">\r\n     <!-- Real ADBL Stock Price -->\r\n     <g transform=\"translate(237.245313 38.916562)scale(0.1 -0.1)\">\r\n      <defs>\r\n       <path d=\"M 44.390625 34.1875 \r\nQ 47.5625 33.109375 50.5625 29.59375 \r\nQ 53.5625 26.078125 56.59375 19.921875 \r\nL 66.609375 0 \r\nL 56 0 \r\nL 46.6875 18.703125 \r\nQ 43.0625 26.03125 39.671875 28.421875 \r\nQ 36.28125 30.8125 30.421875 30.8125 \r\nL 19.671875 30.8125 \r\nL 19.671875 0 \r\nL 9.8125 0 \r\nL 9.8125 72.90625 \r\nL 32.078125 72.90625 \r\nQ 44.578125 72.90625 50.734375 67.671875 \r\nQ 56.890625 62.453125 56.890625 51.90625 \r\nQ 56.890625 45.015625 53.6875 40.46875 \r\nQ 50.484375 35.9375 44.390625 34.1875 \r\nz\r\nM 19.671875 64.796875 \r\nL 19.671875 38.921875 \r\nL 32.078125 38.921875 \r\nQ 39.203125 38.921875 42.84375 42.21875 \r\nQ 46.484375 45.515625 46.484375 51.90625 \r\nQ 46.484375 58.296875 42.84375 61.546875 \r\nQ 39.203125 64.796875 32.078125 64.796875 \r\nz\r\n\" id=\"DejaVuSans-82\"/>\r\n       <path d=\"M 34.28125 27.484375 \r\nQ 23.390625 27.484375 19.1875 25 \r\nQ 14.984375 22.515625 14.984375 16.5 \r\nQ 14.984375 11.71875 18.140625 8.90625 \r\nQ 21.296875 6.109375 26.703125 6.109375 \r\nQ 34.1875 6.109375 38.703125 11.40625 \r\nQ 43.21875 16.703125 43.21875 25.484375 \r\nL 43.21875 27.484375 \r\nz\r\nM 52.203125 31.203125 \r\nL 52.203125 0 \r\nL 43.21875 0 \r\nL 43.21875 8.296875 \r\nQ 40.140625 3.328125 35.546875 0.953125 \r\nQ 30.953125 -1.421875 24.3125 -1.421875 \r\nQ 15.921875 -1.421875 10.953125 3.296875 \r\nQ 6 8.015625 6 15.921875 \r\nQ 6 25.140625 12.171875 29.828125 \r\nQ 18.359375 34.515625 30.609375 34.515625 \r\nL 43.21875 34.515625 \r\nL 43.21875 35.40625 \r\nQ 43.21875 41.609375 39.140625 45 \r\nQ 35.0625 48.390625 27.6875 48.390625 \r\nQ 23 48.390625 18.546875 47.265625 \r\nQ 14.109375 46.140625 10.015625 43.890625 \r\nL 10.015625 52.203125 \r\nQ 14.9375 54.109375 19.578125 55.046875 \r\nQ 24.21875 56 28.609375 56 \r\nQ 40.484375 56 46.34375 49.84375 \r\nQ 52.203125 43.703125 52.203125 31.203125 \r\nz\r\n\" id=\"DejaVuSans-97\"/>\r\n       <path d=\"M 9.421875 75.984375 \r\nL 18.40625 75.984375 \r\nL 18.40625 0 \r\nL 9.421875 0 \r\nz\r\n\" id=\"DejaVuSans-108\"/>\r\n      </defs>\r\n      <use xlink:href=\"#DejaVuSans-82\"/>\r\n      <use x=\"64.982422\" xlink:href=\"#DejaVuSans-101\"/>\r\n      <use x=\"126.505859\" xlink:href=\"#DejaVuSans-97\"/>\r\n      <use x=\"187.785156\" xlink:href=\"#DejaVuSans-108\"/>\r\n      <use x=\"215.568359\" xlink:href=\"#DejaVuSans-32\"/>\r\n      <use x=\"247.355469\" xlink:href=\"#DejaVuSans-65\"/>\r\n      <use x=\"315.763672\" xlink:href=\"#DejaVuSans-68\"/>\r\n      <use x=\"392.765625\" xlink:href=\"#DejaVuSans-66\"/>\r\n      <use x=\"461.369141\" xlink:href=\"#DejaVuSans-76\"/>\r\n      <use x=\"517.082031\" xlink:href=\"#DejaVuSans-32\"/>\r\n      <use x=\"548.869141\" xlink:href=\"#DejaVuSans-83\"/>\r\n      <use x=\"612.345703\" xlink:href=\"#DejaVuSans-116\"/>\r\n      <use x=\"651.554688\" xlink:href=\"#DejaVuSans-111\"/>\r\n      <use x=\"712.736328\" xlink:href=\"#DejaVuSans-99\"/>\r\n      <use x=\"767.716797\" xlink:href=\"#DejaVuSans-107\"/>\r\n      <use x=\"825.626953\" xlink:href=\"#DejaVuSans-32\"/>\r\n      <use x=\"857.414062\" xlink:href=\"#DejaVuSans-80\"/>\r\n      <use x=\"915.966797\" xlink:href=\"#DejaVuSans-114\"/>\r\n      <use x=\"957.080078\" xlink:href=\"#DejaVuSans-105\"/>\r\n      <use x=\"984.863281\" xlink:href=\"#DejaVuSans-99\"/>\r\n      <use x=\"1039.84375\" xlink:href=\"#DejaVuSans-101\"/>\r\n     </g>\r\n    </g>\r\n    <g id=\"line2d_19\">\r\n     <path d=\"M 209.245313 50.094687 \r\nL 229.245313 50.094687 \r\n\" style=\"fill:none;stroke:#0000ff;stroke-linecap:square;stroke-width:1.5;\"/>\r\n    </g>\r\n    <g id=\"line2d_20\"/>\r\n    <g id=\"text_19\">\r\n     <!-- Predicted ADBL Stock Price -->\r\n     <g transform=\"translate(237.245313 53.594687)scale(0.1 -0.1)\">\r\n      <use xlink:href=\"#DejaVuSans-80\"/>\r\n      <use x=\"58.552734\" xlink:href=\"#DejaVuSans-114\"/>\r\n      <use x=\"97.416016\" xlink:href=\"#DejaVuSans-101\"/>\r\n      <use x=\"158.939453\" xlink:href=\"#DejaVuSans-100\"/>\r\n      <use x=\"222.416016\" xlink:href=\"#DejaVuSans-105\"/>\r\n      <use x=\"250.199219\" xlink:href=\"#DejaVuSans-99\"/>\r\n      <use x=\"305.179688\" xlink:href=\"#DejaVuSans-116\"/>\r\n      <use x=\"344.388672\" xlink:href=\"#DejaVuSans-101\"/>\r\n      <use x=\"405.912109\" xlink:href=\"#DejaVuSans-100\"/>\r\n      <use x=\"469.388672\" xlink:href=\"#DejaVuSans-32\"/>\r\n      <use x=\"501.175781\" xlink:href=\"#DejaVuSans-65\"/>\r\n      <use x=\"569.583984\" xlink:href=\"#DejaVuSans-68\"/>\r\n      <use x=\"646.585938\" xlink:href=\"#DejaVuSans-66\"/>\r\n      <use x=\"715.189453\" xlink:href=\"#DejaVuSans-76\"/>\r\n      <use x=\"770.902344\" xlink:href=\"#DejaVuSans-32\"/>\r\n      <use x=\"802.689453\" xlink:href=\"#DejaVuSans-83\"/>\r\n      <use x=\"866.166016\" xlink:href=\"#DejaVuSans-116\"/>\r\n      <use x=\"905.375\" xlink:href=\"#DejaVuSans-111\"/>\r\n      <use x=\"966.556641\" xlink:href=\"#DejaVuSans-99\"/>\r\n      <use x=\"1021.537109\" xlink:href=\"#DejaVuSans-107\"/>\r\n      <use x=\"1079.447266\" xlink:href=\"#DejaVuSans-32\"/>\r\n      <use x=\"1111.234375\" xlink:href=\"#DejaVuSans-80\"/>\r\n      <use x=\"1169.787109\" xlink:href=\"#DejaVuSans-114\"/>\r\n      <use x=\"1210.900391\" xlink:href=\"#DejaVuSans-105\"/>\r\n      <use x=\"1238.683594\" xlink:href=\"#DejaVuSans-99\"/>\r\n      <use x=\"1293.664062\" xlink:href=\"#DejaVuSans-101\"/>\r\n     </g>\r\n    </g>\r\n   </g>\r\n  </g>\r\n </g>\r\n <defs>\r\n  <clipPath id=\"p018fcfdf02\">\r\n   <rect height=\"217.44\" width=\"334.8\" x=\"46.965625\" y=\"22.318125\"/>\r\n  </clipPath>\r\n </defs>\r\n</svg>\r\n",
      "image/png": "[encoded data removed]"
     },
     "metadata": {
      "needs_background": "light"
     }
    }
   ],
   "source": [
    "plt.plot(real_stock_price, color = 'red', label = 'Real ADBL Stock Price')\n",
    "plt.plot(predicted_stock_price, color = 'blue', label = 'Predicted ADBL Stock Price')\n",
    "plt.title('ADBL Stock Price Prediction')\n",
    "plt.xlabel('Time')\n",
    "plt.ylabel('ADBL stock Price')\n",
    "plt.legend()\n",
    "plt.show()"
   ]
  },
  {
   "cell_type": "code",
   "execution_count": null,
   "metadata": {},
   "outputs": [],
   "source": []
  }
 ]
}