{
 "metadata": {
  "language_info": {
   "codemirror_mode": {
    "name": "ipython",
    "version": 3
   },
   "file_extension": ".py",
   "mimetype": "text/x-python",
   "name": "python",
   "nbconvert_exporter": "python",
   "pygments_lexer": "ipython3",
   "version": "3.7.0-final"
  },
  "orig_nbformat": 2,
  "kernelspec": {
   "name": "python3",
   "display_name": "Python 3.7.0 64-bit ('mlenv': conda)",
   "metadata": {
    "interpreter": {
     "hash": "e25e8868c37b6f206e41d8db3322a83293c38c95c77691fd6e7ce7614d2ce145"
    }
   }
  }
 },
 "nbformat": 4,
 "nbformat_minor": 2,
 "cells": [
  {
   "cell_type": "code",
   "execution_count": 3,
   "metadata": {},
   "outputs": [],
   "source": [
    "import os\n",
    "import sys\n",
    "import pandas as pd\n",
    "import matplotlib.pyplot as plt\n",
    "import datetime\n",
    "\n",
    "datetime.datetime.strptime('2011-03-20','%Y-%m-%d')\n",
    "columns = ['Symbol', 'Date', 'Open', 'High', 'Low', 'Close']\n",
    "df = pd.DataFrame([], columns = columns)\n",
    "for entry in os.listdir('data/'):\n",
    "    df_temp= pd.read_csv('data/' + entry)\n",
    "    df_temp[\"Date\"] = pd.Series([entry.split(\".\")[0]]*len(df_temp))\n",
    "    df = pd.concat([df, df_temp[columns]],ignore_index=True)\n",
    "df.head\n"
   ]
  },
  {
   "cell_type": "code",
   "execution_count": null,
   "metadata": {},
   "outputs": [],
   "source": [
    "\n",
    "df.to_csv(\"merged.csv\")"
   ]
  },
  {
   "cell_type": "code",
   "execution_count": null,
   "metadata": {},
   "outputs": [],
   "source": []
  },
  {
   "cell_type": "code",
   "execution_count": null,
   "metadata": {},
   "outputs": [],
   "source": []
  }
 ]
}